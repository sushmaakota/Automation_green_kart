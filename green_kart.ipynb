{
 "cells": [
  {
   "cell_type": "code",
   "execution_count": 1,
   "id": "19ae8729",
   "metadata": {},
   "outputs": [],
   "source": [
    "import sys\n",
    "sys.path.append('C:\\\\Users\\\\sushm.SUSHMAA\\\\AppData\\\\Roaming\\\\Python\\\\Python39\\\\site-packages')"
   ]
  },
  {
   "cell_type": "code",
   "execution_count": 5,
   "id": "4279c837",
   "metadata": {},
   "outputs": [
    {
     "name": "stdout",
     "output_type": "stream",
     "text": [
      "Error Message: Code applied ..!\n"
     ]
    }
   ],
   "source": [
    "################# green_kart.py #########################\n",
    "\n",
    "\n",
    "from selenium import webdriver\n",
    "from selenium.webdriver.common.by import By\n",
    "from selenium.webdriver.support.ui import WebDriverWait\n",
    "from selenium.webdriver.support import expected_conditions as EC\n",
    "import time\n",
    "\n",
    "driver = webdriver.Chrome()\n",
    "driver.get(\"https://rahulshettyacademy.com/seleniumPractise/\")\n",
    "\n",
    "# 1. Typing \"ber\" in the search field\n",
    "search_field = driver.find_element(By.CSS_SELECTOR, \"input.search-keyword\")\n",
    "search_field.send_keys(\"ber\")\n",
    "\n",
    "time.sleep(3)\n",
    "\n",
    "# 2. Add each item to the cart\n",
    "products = driver.find_elements(By.XPATH, \"//div[@class='products']/div/div[3]/button\")\n",
    "for product in products:\n",
    "    # Scroll to the button to ensure it's in view\n",
    "    driver.execute_script(\"arguments[0].scrollIntoView(true);\", product)\n",
    "    product.click()\n",
    "    time.sleep(2)\n",
    "\n",
    " # 4. Clicking on the cart icon\n",
    "driver.find_element(By.CSS_SELECTOR, \"img[alt='Cart']\").click()\n",
    "\n",
    "time.sleep(2)\n",
    "# 5. Clicking on \"Proceed to Checkout\"\n",
    "driver.find_element(By.XPATH, \"//button[text()='PROCEED TO CHECKOUT']\").click()\n",
    "time.sleep(2)\n",
    "\n",
    "# 5. Enter an invalid promo code\n",
    "promo_code_input = driver.find_element(By.CSS_SELECTOR, \"input.promoCode\")\n",
    "promo_code_input.send_keys(\"rahulshettyacademy\")\n",
    "\n",
    "# 6. Click on the \"Apply\" button\n",
    "driver.find_element(By.CSS_SELECTOR, \"button.promoBtn\").click()\n",
    "time.sleep(3)\n",
    "\n",
    "#\n",
    "promo_message = WebDriverWait(driver, 10).until(\n",
    "    EC.visibility_of_element_located((By.CSS_SELECTOR, \"span.promoInfo\"))\n",
    ")\n",
    "time.sleep(4)\n",
    "\n",
    "\n",
    "# 8. Handle the error message (example)\n",
    "try:\n",
    "    error_message = WebDriverWait(driver, 5).until(\n",
    "        EC.visibility_of_element_located((By.XPATH, \"//span[@class='promoInfo']\"))\n",
    "    )\n",
    "    print(\"Error Message:\", error_message.text)\n",
    "except:\n",
    "    print(\"No error message found, promo code applied successfully.\")\n",
    "\n",
    "driver.find_element(By.XPATH, '//*[@id=\"root\"]/div/div/div/div/button').click()\n",
    "time.sleep(2)\n",
    "\n",
    "\n",
    "driver.quit()\n",
    "\n",
    "\n",
    "\n",
    "\n"
   ]
  },
  {
   "cell_type": "code",
   "execution_count": null,
   "id": "3a390bf4",
   "metadata": {},
   "outputs": [],
   "source": []
  }
 ],
 "metadata": {
  "kernelspec": {
   "display_name": "Python 3 (ipykernel)",
   "language": "python",
   "name": "python3"
  },
  "language_info": {
   "codemirror_mode": {
    "name": "ipython",
    "version": 3
   },
   "file_extension": ".py",
   "mimetype": "text/x-python",
   "name": "python",
   "nbconvert_exporter": "python",
   "pygments_lexer": "ipython3",
   "version": "3.9.13"
  }
 },
 "nbformat": 4,
 "nbformat_minor": 5
}
